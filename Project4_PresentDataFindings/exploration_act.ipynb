{
 "cells": [
  {
   "cell_type": "markdown",
   "metadata": {},
   "source": [
    "# Ford GoBike System Data exploration\n",
    "## by Chia_Hung Yen\n",
    "\n",
    "## Preliminary Wrangling\n",
    "\n",
    "This data is from lyft bikes that contains the information about the bike-sharing system covering the greater San Francisco Bay area."
   ]
  },
  {
   "cell_type": "code",
   "execution_count": 1,
   "metadata": {},
   "outputs": [],
   "source": [
    "# import all packages and set plots to be embedded inline\n",
    "import numpy as np\n",
    "import pandas as pd\n",
    "import matplotlib.pyplot as plt\n",
    "import seaborn as sb\n",
    "\n",
    "%matplotlib inline"
   ]
  },
  {
   "cell_type": "code",
   "execution_count": 2,
   "metadata": {},
   "outputs": [],
   "source": [
    "# load in the dataset into a pandas dataframe\n",
    "df_18=[]\n",
    "for i in range(1,10):\n",
    "    df_18.append(pd.read_csv('20180{}-fordgobike-tripdata.csv'.format(i)))\n",
    "df_18.append(pd.read_csv('201810-fordgobike-tripdata.csv'))\n",
    "df_18.append(pd.read_csv('201811-fordgobike-tripdata.csv'))\n",
    "df_18.append(pd.read_csv('201812-fordgobike-tripdata.csv'))"
   ]
  },
  {
   "cell_type": "code",
   "execution_count": 3,
   "metadata": {},
   "outputs": [],
   "source": [
    "# construct dataframe for all the data\n",
    "df_18 = pd.concat(df_18)"
   ]
  },
  {
   "cell_type": "code",
   "execution_count": 4,
   "metadata": {},
   "outputs": [
    {
     "name": "stdout",
     "output_type": "stream",
     "text": [
      "(1863721, 14)\n",
      "<class 'pandas.core.frame.DataFrame'>\n",
      "Int64Index: 1863721 entries, 0 to 131362\n",
      "Data columns (total 14 columns):\n",
      " #   Column                   Dtype  \n",
      "---  ------                   -----  \n",
      " 0   duration_sec             int64  \n",
      " 1   start_time               object \n",
      " 2   end_time                 object \n",
      " 3   start_station_id         float64\n",
      " 4   start_station_name       object \n",
      " 5   start_station_latitude   float64\n",
      " 6   start_station_longitude  float64\n",
      " 7   end_station_id           float64\n",
      " 8   end_station_name         object \n",
      " 9   end_station_latitude     float64\n",
      " 10  end_station_longitude    float64\n",
      " 11  bike_id                  int64  \n",
      " 12  user_type                object \n",
      " 13  bike_share_for_all_trip  object \n",
      "dtypes: float64(6), int64(2), object(6)\n",
      "memory usage: 213.3+ MB\n",
      "None\n"
     ]
    }
   ],
   "source": [
    "print (df_18.shape)\n",
    "print (df_18.info())"
   ]
  },
  {
   "cell_type": "code",
   "execution_count": 5,
   "metadata": {
    "scrolled": true
   },
   "outputs": [
    {
     "data": {
      "text/html": [
       "<div>\n",
       "<style scoped>\n",
       "    .dataframe tbody tr th:only-of-type {\n",
       "        vertical-align: middle;\n",
       "    }\n",
       "\n",
       "    .dataframe tbody tr th {\n",
       "        vertical-align: top;\n",
       "    }\n",
       "\n",
       "    .dataframe thead th {\n",
       "        text-align: right;\n",
       "    }\n",
       "</style>\n",
       "<table border=\"1\" class=\"dataframe\">\n",
       "  <thead>\n",
       "    <tr style=\"text-align: right;\">\n",
       "      <th></th>\n",
       "      <th>duration_sec</th>\n",
       "      <th>start_time</th>\n",
       "      <th>end_time</th>\n",
       "      <th>start_station_id</th>\n",
       "      <th>start_station_name</th>\n",
       "      <th>start_station_latitude</th>\n",
       "      <th>start_station_longitude</th>\n",
       "      <th>end_station_id</th>\n",
       "      <th>end_station_name</th>\n",
       "      <th>end_station_latitude</th>\n",
       "      <th>end_station_longitude</th>\n",
       "      <th>bike_id</th>\n",
       "      <th>user_type</th>\n",
       "      <th>bike_share_for_all_trip</th>\n",
       "    </tr>\n",
       "  </thead>\n",
       "  <tbody>\n",
       "    <tr>\n",
       "      <th>0</th>\n",
       "      <td>75284</td>\n",
       "      <td>2018-01-31 22:52:35.2390</td>\n",
       "      <td>2018-02-01 19:47:19.8240</td>\n",
       "      <td>120.0</td>\n",
       "      <td>Mission Dolores Park</td>\n",
       "      <td>37.761420</td>\n",
       "      <td>-122.426435</td>\n",
       "      <td>285.0</td>\n",
       "      <td>Webster St at O'Farrell St</td>\n",
       "      <td>37.783521</td>\n",
       "      <td>-122.431158</td>\n",
       "      <td>2765</td>\n",
       "      <td>Subscriber</td>\n",
       "      <td>No</td>\n",
       "    </tr>\n",
       "    <tr>\n",
       "      <th>1</th>\n",
       "      <td>85422</td>\n",
       "      <td>2018-01-31 16:13:34.3510</td>\n",
       "      <td>2018-02-01 15:57:17.3100</td>\n",
       "      <td>15.0</td>\n",
       "      <td>San Francisco Ferry Building (Harry Bridges Pl...</td>\n",
       "      <td>37.795392</td>\n",
       "      <td>-122.394203</td>\n",
       "      <td>15.0</td>\n",
       "      <td>San Francisco Ferry Building (Harry Bridges Pl...</td>\n",
       "      <td>37.795392</td>\n",
       "      <td>-122.394203</td>\n",
       "      <td>2815</td>\n",
       "      <td>Customer</td>\n",
       "      <td>No</td>\n",
       "    </tr>\n",
       "    <tr>\n",
       "      <th>2</th>\n",
       "      <td>71576</td>\n",
       "      <td>2018-01-31 14:23:55.8890</td>\n",
       "      <td>2018-02-01 10:16:52.1160</td>\n",
       "      <td>304.0</td>\n",
       "      <td>Jackson St at 5th St</td>\n",
       "      <td>37.348759</td>\n",
       "      <td>-121.894798</td>\n",
       "      <td>296.0</td>\n",
       "      <td>5th St at Virginia St</td>\n",
       "      <td>37.325998</td>\n",
       "      <td>-121.877120</td>\n",
       "      <td>3039</td>\n",
       "      <td>Customer</td>\n",
       "      <td>No</td>\n",
       "    </tr>\n",
       "    <tr>\n",
       "      <th>3</th>\n",
       "      <td>61076</td>\n",
       "      <td>2018-01-31 14:53:23.5620</td>\n",
       "      <td>2018-02-01 07:51:20.5000</td>\n",
       "      <td>75.0</td>\n",
       "      <td>Market St at Franklin St</td>\n",
       "      <td>37.773793</td>\n",
       "      <td>-122.421239</td>\n",
       "      <td>47.0</td>\n",
       "      <td>4th St at Harrison St</td>\n",
       "      <td>37.780955</td>\n",
       "      <td>-122.399749</td>\n",
       "      <td>321</td>\n",
       "      <td>Customer</td>\n",
       "      <td>No</td>\n",
       "    </tr>\n",
       "    <tr>\n",
       "      <th>4</th>\n",
       "      <td>39966</td>\n",
       "      <td>2018-01-31 19:52:24.6670</td>\n",
       "      <td>2018-02-01 06:58:31.0530</td>\n",
       "      <td>74.0</td>\n",
       "      <td>Laguna St at Hayes St</td>\n",
       "      <td>37.776435</td>\n",
       "      <td>-122.426244</td>\n",
       "      <td>19.0</td>\n",
       "      <td>Post St at Kearny St</td>\n",
       "      <td>37.788975</td>\n",
       "      <td>-122.403452</td>\n",
       "      <td>617</td>\n",
       "      <td>Subscriber</td>\n",
       "      <td>No</td>\n",
       "    </tr>\n",
       "  </tbody>\n",
       "</table>\n",
       "</div>"
      ],
      "text/plain": [
       "   duration_sec                start_time                  end_time  \\\n",
       "0         75284  2018-01-31 22:52:35.2390  2018-02-01 19:47:19.8240   \n",
       "1         85422  2018-01-31 16:13:34.3510  2018-02-01 15:57:17.3100   \n",
       "2         71576  2018-01-31 14:23:55.8890  2018-02-01 10:16:52.1160   \n",
       "3         61076  2018-01-31 14:53:23.5620  2018-02-01 07:51:20.5000   \n",
       "4         39966  2018-01-31 19:52:24.6670  2018-02-01 06:58:31.0530   \n",
       "\n",
       "   start_station_id                                 start_station_name  \\\n",
       "0             120.0                               Mission Dolores Park   \n",
       "1              15.0  San Francisco Ferry Building (Harry Bridges Pl...   \n",
       "2             304.0                               Jackson St at 5th St   \n",
       "3              75.0                           Market St at Franklin St   \n",
       "4              74.0                              Laguna St at Hayes St   \n",
       "\n",
       "   start_station_latitude  start_station_longitude  end_station_id  \\\n",
       "0               37.761420              -122.426435           285.0   \n",
       "1               37.795392              -122.394203            15.0   \n",
       "2               37.348759              -121.894798           296.0   \n",
       "3               37.773793              -122.421239            47.0   \n",
       "4               37.776435              -122.426244            19.0   \n",
       "\n",
       "                                    end_station_name  end_station_latitude  \\\n",
       "0                         Webster St at O'Farrell St             37.783521   \n",
       "1  San Francisco Ferry Building (Harry Bridges Pl...             37.795392   \n",
       "2                              5th St at Virginia St             37.325998   \n",
       "3                              4th St at Harrison St             37.780955   \n",
       "4                               Post St at Kearny St             37.788975   \n",
       "\n",
       "   end_station_longitude  bike_id   user_type bike_share_for_all_trip  \n",
       "0            -122.431158     2765  Subscriber                      No  \n",
       "1            -122.394203     2815    Customer                      No  \n",
       "2            -121.877120     3039    Customer                      No  \n",
       "3            -122.399749      321    Customer                      No  \n",
       "4            -122.403452      617  Subscriber                      No  "
      ]
     },
     "execution_count": 5,
     "metadata": {},
     "output_type": "execute_result"
    }
   ],
   "source": [
    "df_18.head(5)"
   ]
  },
  {
   "cell_type": "code",
   "execution_count": 6,
   "metadata": {},
   "outputs": [
    {
     "data": {
      "text/html": [
       "<div>\n",
       "<style scoped>\n",
       "    .dataframe tbody tr th:only-of-type {\n",
       "        vertical-align: middle;\n",
       "    }\n",
       "\n",
       "    .dataframe tbody tr th {\n",
       "        vertical-align: top;\n",
       "    }\n",
       "\n",
       "    .dataframe thead th {\n",
       "        text-align: right;\n",
       "    }\n",
       "</style>\n",
       "<table border=\"1\" class=\"dataframe\">\n",
       "  <thead>\n",
       "    <tr style=\"text-align: right;\">\n",
       "      <th></th>\n",
       "      <th>duration_sec</th>\n",
       "      <th>start_station_id</th>\n",
       "      <th>start_station_latitude</th>\n",
       "      <th>start_station_longitude</th>\n",
       "      <th>end_station_id</th>\n",
       "      <th>end_station_latitude</th>\n",
       "      <th>end_station_longitude</th>\n",
       "      <th>bike_id</th>\n",
       "    </tr>\n",
       "  </thead>\n",
       "  <tbody>\n",
       "    <tr>\n",
       "      <th>count</th>\n",
       "      <td>1.863721e+06</td>\n",
       "      <td>1.851950e+06</td>\n",
       "      <td>1.863721e+06</td>\n",
       "      <td>1.863721e+06</td>\n",
       "      <td>1.851950e+06</td>\n",
       "      <td>1.863721e+06</td>\n",
       "      <td>1.863721e+06</td>\n",
       "      <td>1.863721e+06</td>\n",
       "    </tr>\n",
       "    <tr>\n",
       "      <th>mean</th>\n",
       "      <td>8.573026e+02</td>\n",
       "      <td>1.196744e+02</td>\n",
       "      <td>3.776678e+01</td>\n",
       "      <td>-1.223492e+02</td>\n",
       "      <td>1.181730e+02</td>\n",
       "      <td>3.776690e+01</td>\n",
       "      <td>-1.223487e+02</td>\n",
       "      <td>2.296851e+03</td>\n",
       "    </tr>\n",
       "    <tr>\n",
       "      <th>std</th>\n",
       "      <td>2.370379e+03</td>\n",
       "      <td>1.003976e+02</td>\n",
       "      <td>1.057689e-01</td>\n",
       "      <td>1.654634e-01</td>\n",
       "      <td>1.004403e+02</td>\n",
       "      <td>1.056483e-01</td>\n",
       "      <td>1.650597e-01</td>\n",
       "      <td>1.287733e+03</td>\n",
       "    </tr>\n",
       "    <tr>\n",
       "      <th>min</th>\n",
       "      <td>6.100000e+01</td>\n",
       "      <td>3.000000e+00</td>\n",
       "      <td>3.726331e+01</td>\n",
       "      <td>-1.224737e+02</td>\n",
       "      <td>3.000000e+00</td>\n",
       "      <td>3.726331e+01</td>\n",
       "      <td>-1.224737e+02</td>\n",
       "      <td>1.100000e+01</td>\n",
       "    </tr>\n",
       "    <tr>\n",
       "      <th>25%</th>\n",
       "      <td>3.500000e+02</td>\n",
       "      <td>3.300000e+01</td>\n",
       "      <td>3.777106e+01</td>\n",
       "      <td>-1.224114e+02</td>\n",
       "      <td>3.000000e+01</td>\n",
       "      <td>3.777106e+01</td>\n",
       "      <td>-1.224094e+02</td>\n",
       "      <td>1.225000e+03</td>\n",
       "    </tr>\n",
       "    <tr>\n",
       "      <th>50%</th>\n",
       "      <td>5.560000e+02</td>\n",
       "      <td>8.900000e+01</td>\n",
       "      <td>3.778107e+01</td>\n",
       "      <td>-1.223974e+02</td>\n",
       "      <td>8.800000e+01</td>\n",
       "      <td>3.778127e+01</td>\n",
       "      <td>-1.223971e+02</td>\n",
       "      <td>2.338000e+03</td>\n",
       "    </tr>\n",
       "    <tr>\n",
       "      <th>75%</th>\n",
       "      <td>8.720000e+02</td>\n",
       "      <td>1.860000e+02</td>\n",
       "      <td>3.779625e+01</td>\n",
       "      <td>-1.222865e+02</td>\n",
       "      <td>1.830000e+02</td>\n",
       "      <td>3.779728e+01</td>\n",
       "      <td>-1.222894e+02</td>\n",
       "      <td>3.333000e+03</td>\n",
       "    </tr>\n",
       "    <tr>\n",
       "      <th>max</th>\n",
       "      <td>8.636600e+04</td>\n",
       "      <td>3.810000e+02</td>\n",
       "      <td>4.551000e+01</td>\n",
       "      <td>-7.357000e+01</td>\n",
       "      <td>3.810000e+02</td>\n",
       "      <td>4.551000e+01</td>\n",
       "      <td>-7.357000e+01</td>\n",
       "      <td>6.234000e+03</td>\n",
       "    </tr>\n",
       "  </tbody>\n",
       "</table>\n",
       "</div>"
      ],
      "text/plain": [
       "       duration_sec  start_station_id  start_station_latitude  \\\n",
       "count  1.863721e+06      1.851950e+06            1.863721e+06   \n",
       "mean   8.573026e+02      1.196744e+02            3.776678e+01   \n",
       "std    2.370379e+03      1.003976e+02            1.057689e-01   \n",
       "min    6.100000e+01      3.000000e+00            3.726331e+01   \n",
       "25%    3.500000e+02      3.300000e+01            3.777106e+01   \n",
       "50%    5.560000e+02      8.900000e+01            3.778107e+01   \n",
       "75%    8.720000e+02      1.860000e+02            3.779625e+01   \n",
       "max    8.636600e+04      3.810000e+02            4.551000e+01   \n",
       "\n",
       "       start_station_longitude  end_station_id  end_station_latitude  \\\n",
       "count             1.863721e+06    1.851950e+06          1.863721e+06   \n",
       "mean             -1.223492e+02    1.181730e+02          3.776690e+01   \n",
       "std               1.654634e-01    1.004403e+02          1.056483e-01   \n",
       "min              -1.224737e+02    3.000000e+00          3.726331e+01   \n",
       "25%              -1.224114e+02    3.000000e+01          3.777106e+01   \n",
       "50%              -1.223974e+02    8.800000e+01          3.778127e+01   \n",
       "75%              -1.222865e+02    1.830000e+02          3.779728e+01   \n",
       "max              -7.357000e+01    3.810000e+02          4.551000e+01   \n",
       "\n",
       "       end_station_longitude       bike_id  \n",
       "count           1.863721e+06  1.863721e+06  \n",
       "mean           -1.223487e+02  2.296851e+03  \n",
       "std             1.650597e-01  1.287733e+03  \n",
       "min            -1.224737e+02  1.100000e+01  \n",
       "25%            -1.224094e+02  1.225000e+03  \n",
       "50%            -1.223971e+02  2.338000e+03  \n",
       "75%            -1.222894e+02  3.333000e+03  \n",
       "max            -7.357000e+01  6.234000e+03  "
      ]
     },
     "execution_count": 6,
     "metadata": {},
     "output_type": "execute_result"
    }
   ],
   "source": [
    "df_18.describe()"
   ]
  },
  {
   "cell_type": "code",
   "execution_count": 7,
   "metadata": {
    "scrolled": true
   },
   "outputs": [
    {
     "data": {
      "text/plain": [
       "duration_sec                   0\n",
       "start_time                     0\n",
       "end_time                       0\n",
       "start_station_id           11771\n",
       "start_station_name         11771\n",
       "start_station_latitude         0\n",
       "start_station_longitude        0\n",
       "end_station_id             11771\n",
       "end_station_name           11771\n",
       "end_station_latitude           0\n",
       "end_station_longitude          0\n",
       "bike_id                        0\n",
       "user_type                      0\n",
       "bike_share_for_all_trip        0\n",
       "dtype: int64"
      ]
     },
     "execution_count": 7,
     "metadata": {},
     "output_type": "execute_result"
    }
   ],
   "source": [
    "df_18.isna().sum()"
   ]
  },
  {
   "cell_type": "markdown",
   "metadata": {},
   "source": [
    "Some stations have no id and name. Since we are going to use them, I will let them stay there."
   ]
  },
  {
   "cell_type": "markdown",
   "metadata": {},
   "source": [
    "From the information we have now, there are some issues need to fix before further exploration."
   ]
  },
  {
   "cell_type": "code",
   "execution_count": 8,
   "metadata": {},
   "outputs": [],
   "source": [
    "# make a copy for dataframe\n",
    "df_18_clean = df_18.copy()"
   ]
  },
  {
   "cell_type": "code",
   "execution_count": 9,
   "metadata": {
    "scrolled": true
   },
   "outputs": [],
   "source": [
    "# change the type of columns\n",
    "for col in ['start_time', 'end_time']:\n",
    "    df_18_clean[col] = pd.to_datetime(df_18_clean[col])\n",
    "df_18_clean['bike_id'] = df_18_clean['bike_id'].astype('str')\n",
    "type =['Subscriber', 'Customer']\n",
    "user_type = pd.api.types.CategoricalDtype(ordered = False , categories = type)\n",
    "df_18['user_type'] = df_18['user_type'].astype(user_type)"
   ]
  },
  {
   "cell_type": "code",
   "execution_count": 10,
   "metadata": {},
   "outputs": [],
   "source": [
    "# find the month, day, day of the week and start hour\n",
    "df_18_clean['month'] = df_18_clean['start_time'].dt.month\n",
    "df_18_clean['day'] = df_18_clean['start_time'].dt.day\n",
    "df_18_clean['day_of_the_week'] = df_18_clean['start_time'].apply(lambda x: x.dayofweek)\n",
    "df_18_clean['start_hr'] = df_18_clean[\"start_time\"].apply(lambda x: x.hour)"
   ]
  },
  {
   "cell_type": "code",
   "execution_count": 11,
   "metadata": {},
   "outputs": [],
   "source": [
    "month = ['Jan','Feb','Mar','Apr','May','Jun','Jul','Aug','Sep','Oct','Nov','Dec']\n",
    "day= ['Mon', 'Tue', 'Wed', 'Thu', 'Fri', 'Sat', 'Sun']\n",
    "\n",
    "for i in range(len(month)):\n",
    "    df_18_clean['month'].replace(i+1,month[i],inplace = True)\n",
    "for i in range(len(day)):\n",
    "    df_18_clean['day_of_the_week'].replace(i,day[i],inplace = True)"
   ]
  },
  {
   "cell_type": "code",
   "execution_count": 12,
   "metadata": {},
   "outputs": [
    {
     "name": "stdout",
     "output_type": "stream",
     "text": [
      "<class 'pandas.core.frame.DataFrame'>\n",
      "Int64Index: 1863721 entries, 0 to 131362\n",
      "Data columns (total 18 columns):\n",
      " #   Column                   Dtype         \n",
      "---  ------                   -----         \n",
      " 0   duration_sec             int64         \n",
      " 1   start_time               datetime64[ns]\n",
      " 2   end_time                 datetime64[ns]\n",
      " 3   start_station_id         float64       \n",
      " 4   start_station_name       object        \n",
      " 5   start_station_latitude   float64       \n",
      " 6   start_station_longitude  float64       \n",
      " 7   end_station_id           float64       \n",
      " 8   end_station_name         object        \n",
      " 9   end_station_latitude     float64       \n",
      " 10  end_station_longitude    float64       \n",
      " 11  bike_id                  object        \n",
      " 12  user_type                object        \n",
      " 13  bike_share_for_all_trip  object        \n",
      " 14  month                    object        \n",
      " 15  day                      int64         \n",
      " 16  day_of_the_week          object        \n",
      " 17  start_hr                 int64         \n",
      "dtypes: datetime64[ns](2), float64(6), int64(3), object(7)\n",
      "memory usage: 270.2+ MB\n"
     ]
    }
   ],
   "source": [
    "df_18_clean.info()"
   ]
  },
  {
   "cell_type": "code",
   "execution_count": 13,
   "metadata": {},
   "outputs": [
    {
     "data": {
      "text/html": [
       "<div>\n",
       "<style scoped>\n",
       "    .dataframe tbody tr th:only-of-type {\n",
       "        vertical-align: middle;\n",
       "    }\n",
       "\n",
       "    .dataframe tbody tr th {\n",
       "        vertical-align: top;\n",
       "    }\n",
       "\n",
       "    .dataframe thead th {\n",
       "        text-align: right;\n",
       "    }\n",
       "</style>\n",
       "<table border=\"1\" class=\"dataframe\">\n",
       "  <thead>\n",
       "    <tr style=\"text-align: right;\">\n",
       "      <th></th>\n",
       "      <th>duration_sec</th>\n",
       "      <th>start_time</th>\n",
       "      <th>end_time</th>\n",
       "      <th>start_station_id</th>\n",
       "      <th>start_station_name</th>\n",
       "      <th>start_station_latitude</th>\n",
       "      <th>start_station_longitude</th>\n",
       "      <th>end_station_id</th>\n",
       "      <th>end_station_name</th>\n",
       "      <th>end_station_latitude</th>\n",
       "      <th>end_station_longitude</th>\n",
       "      <th>bike_id</th>\n",
       "      <th>user_type</th>\n",
       "      <th>bike_share_for_all_trip</th>\n",
       "      <th>month</th>\n",
       "      <th>day</th>\n",
       "      <th>day_of_the_week</th>\n",
       "      <th>start_hr</th>\n",
       "    </tr>\n",
       "  </thead>\n",
       "  <tbody>\n",
       "    <tr>\n",
       "      <th>0</th>\n",
       "      <td>75284</td>\n",
       "      <td>2018-01-31 22:52:35.239</td>\n",
       "      <td>2018-02-01 19:47:19.824</td>\n",
       "      <td>120.0</td>\n",
       "      <td>Mission Dolores Park</td>\n",
       "      <td>37.761420</td>\n",
       "      <td>-122.426435</td>\n",
       "      <td>285.0</td>\n",
       "      <td>Webster St at O'Farrell St</td>\n",
       "      <td>37.783521</td>\n",
       "      <td>-122.431158</td>\n",
       "      <td>2765</td>\n",
       "      <td>Subscriber</td>\n",
       "      <td>No</td>\n",
       "      <td>Jan</td>\n",
       "      <td>31</td>\n",
       "      <td>Wed</td>\n",
       "      <td>22</td>\n",
       "    </tr>\n",
       "    <tr>\n",
       "      <th>1</th>\n",
       "      <td>85422</td>\n",
       "      <td>2018-01-31 16:13:34.351</td>\n",
       "      <td>2018-02-01 15:57:17.310</td>\n",
       "      <td>15.0</td>\n",
       "      <td>San Francisco Ferry Building (Harry Bridges Pl...</td>\n",
       "      <td>37.795392</td>\n",
       "      <td>-122.394203</td>\n",
       "      <td>15.0</td>\n",
       "      <td>San Francisco Ferry Building (Harry Bridges Pl...</td>\n",
       "      <td>37.795392</td>\n",
       "      <td>-122.394203</td>\n",
       "      <td>2815</td>\n",
       "      <td>Customer</td>\n",
       "      <td>No</td>\n",
       "      <td>Jan</td>\n",
       "      <td>31</td>\n",
       "      <td>Wed</td>\n",
       "      <td>16</td>\n",
       "    </tr>\n",
       "    <tr>\n",
       "      <th>2</th>\n",
       "      <td>71576</td>\n",
       "      <td>2018-01-31 14:23:55.889</td>\n",
       "      <td>2018-02-01 10:16:52.116</td>\n",
       "      <td>304.0</td>\n",
       "      <td>Jackson St at 5th St</td>\n",
       "      <td>37.348759</td>\n",
       "      <td>-121.894798</td>\n",
       "      <td>296.0</td>\n",
       "      <td>5th St at Virginia St</td>\n",
       "      <td>37.325998</td>\n",
       "      <td>-121.877120</td>\n",
       "      <td>3039</td>\n",
       "      <td>Customer</td>\n",
       "      <td>No</td>\n",
       "      <td>Jan</td>\n",
       "      <td>31</td>\n",
       "      <td>Wed</td>\n",
       "      <td>14</td>\n",
       "    </tr>\n",
       "    <tr>\n",
       "      <th>3</th>\n",
       "      <td>61076</td>\n",
       "      <td>2018-01-31 14:53:23.562</td>\n",
       "      <td>2018-02-01 07:51:20.500</td>\n",
       "      <td>75.0</td>\n",
       "      <td>Market St at Franklin St</td>\n",
       "      <td>37.773793</td>\n",
       "      <td>-122.421239</td>\n",
       "      <td>47.0</td>\n",
       "      <td>4th St at Harrison St</td>\n",
       "      <td>37.780955</td>\n",
       "      <td>-122.399749</td>\n",
       "      <td>321</td>\n",
       "      <td>Customer</td>\n",
       "      <td>No</td>\n",
       "      <td>Jan</td>\n",
       "      <td>31</td>\n",
       "      <td>Wed</td>\n",
       "      <td>14</td>\n",
       "    </tr>\n",
       "    <tr>\n",
       "      <th>4</th>\n",
       "      <td>39966</td>\n",
       "      <td>2018-01-31 19:52:24.667</td>\n",
       "      <td>2018-02-01 06:58:31.053</td>\n",
       "      <td>74.0</td>\n",
       "      <td>Laguna St at Hayes St</td>\n",
       "      <td>37.776435</td>\n",
       "      <td>-122.426244</td>\n",
       "      <td>19.0</td>\n",
       "      <td>Post St at Kearny St</td>\n",
       "      <td>37.788975</td>\n",
       "      <td>-122.403452</td>\n",
       "      <td>617</td>\n",
       "      <td>Subscriber</td>\n",
       "      <td>No</td>\n",
       "      <td>Jan</td>\n",
       "      <td>31</td>\n",
       "      <td>Wed</td>\n",
       "      <td>19</td>\n",
       "    </tr>\n",
       "  </tbody>\n",
       "</table>\n",
       "</div>"
      ],
      "text/plain": [
       "   duration_sec              start_time                end_time  \\\n",
       "0         75284 2018-01-31 22:52:35.239 2018-02-01 19:47:19.824   \n",
       "1         85422 2018-01-31 16:13:34.351 2018-02-01 15:57:17.310   \n",
       "2         71576 2018-01-31 14:23:55.889 2018-02-01 10:16:52.116   \n",
       "3         61076 2018-01-31 14:53:23.562 2018-02-01 07:51:20.500   \n",
       "4         39966 2018-01-31 19:52:24.667 2018-02-01 06:58:31.053   \n",
       "\n",
       "   start_station_id                                 start_station_name  \\\n",
       "0             120.0                               Mission Dolores Park   \n",
       "1              15.0  San Francisco Ferry Building (Harry Bridges Pl...   \n",
       "2             304.0                               Jackson St at 5th St   \n",
       "3              75.0                           Market St at Franklin St   \n",
       "4              74.0                              Laguna St at Hayes St   \n",
       "\n",
       "   start_station_latitude  start_station_longitude  end_station_id  \\\n",
       "0               37.761420              -122.426435           285.0   \n",
       "1               37.795392              -122.394203            15.0   \n",
       "2               37.348759              -121.894798           296.0   \n",
       "3               37.773793              -122.421239            47.0   \n",
       "4               37.776435              -122.426244            19.0   \n",
       "\n",
       "                                    end_station_name  end_station_latitude  \\\n",
       "0                         Webster St at O'Farrell St             37.783521   \n",
       "1  San Francisco Ferry Building (Harry Bridges Pl...             37.795392   \n",
       "2                              5th St at Virginia St             37.325998   \n",
       "3                              4th St at Harrison St             37.780955   \n",
       "4                               Post St at Kearny St             37.788975   \n",
       "\n",
       "   end_station_longitude bike_id   user_type bike_share_for_all_trip month  \\\n",
       "0            -122.431158    2765  Subscriber                      No   Jan   \n",
       "1            -122.394203    2815    Customer                      No   Jan   \n",
       "2            -121.877120    3039    Customer                      No   Jan   \n",
       "3            -122.399749     321    Customer                      No   Jan   \n",
       "4            -122.403452     617  Subscriber                      No   Jan   \n",
       "\n",
       "   day day_of_the_week  start_hr  \n",
       "0   31             Wed        22  \n",
       "1   31             Wed        16  \n",
       "2   31             Wed        14  \n",
       "3   31             Wed        14  \n",
       "4   31             Wed        19  "
      ]
     },
     "execution_count": 13,
     "metadata": {},
     "output_type": "execute_result"
    }
   ],
   "source": [
    "df_18_clean.head(5)"
   ]
  },
  {
   "cell_type": "code",
   "execution_count": 14,
   "metadata": {},
   "outputs": [
    {
     "data": {
      "text/plain": [
       "Subscriber    1583554\n",
       "Customer       280167\n",
       "Name: user_type, dtype: int64"
      ]
     },
     "execution_count": 14,
     "metadata": {},
     "output_type": "execute_result"
    }
   ],
   "source": [
    "df_18_clean.user_type.value_counts()"
   ]
  },
  {
   "cell_type": "code",
   "execution_count": 15,
   "metadata": {},
   "outputs": [
    {
     "data": {
      "text/plain": [
       "No     1701386\n",
       "Yes     162335\n",
       "Name: bike_share_for_all_trip, dtype: int64"
      ]
     },
     "execution_count": 15,
     "metadata": {},
     "output_type": "execute_result"
    }
   ],
   "source": [
    "df_18_clean.bike_share_for_all_trip.value_counts()"
   ]
  },
  {
   "cell_type": "code",
   "execution_count": 16,
   "metadata": {},
   "outputs": [],
   "source": [
    "# save to file\n",
    "df_18_clean.to_csv('gobike_2018.csv', index=False, encoding = 'utf-8')"
   ]
  },
  {
   "cell_type": "markdown",
   "metadata": {},
   "source": [
    "### What is the structure of your dataset?\n",
    "\n",
    ">  There are 1863721 bike rental records in 2018 with 14 features. This dataset include id, time, name and location of stations, bike id for each rental, and also the type of user whether they are enrolled in the Bike Share for All program.\n",
    "\n",
    "### What is/are the main feature(s) of interest in your dataset?\n",
    "\n",
    ">  I am most interested in figuring out which day of the week are most trips taken in 2018.\n",
    "\n",
    "### What features in the dataset do you think will help support your investigation into your feature(s) of interest?\n",
    "\n",
    "> I expect that the start time and end time will be the main features needed. I also think that user type will also related to the usage of the system."
   ]
  },
  {
   "cell_type": "markdown",
   "metadata": {},
   "source": [
    "## Univariate Exploration\n",
    "\n",
    "I will start by looking to the usage of each day of the week"
   ]
  },
  {
   "cell_type": "code",
   "execution_count": 17,
   "metadata": {},
   "outputs": [
    {
     "data": {
      "image/png": "[encoded data removed]",
      "text/plain": [
       "<Figure size 720x216 with 1 Axes>"
      ]
     },
     "metadata": {
      "needs_background": "light"
     },
     "output_type": "display_data"
    }
   ],
   "source": [
    "# plot the usage by day of the week\n",
    "fig, ax = plt.subplots(figsize = (10,3))\n",
    "sb.countplot(data = df_18_clean, x = 'day_of_the_week', color = sb.color_palette()[0], order = day);\n",
    "plt.title('Counts of trips for each week of the day')\n",
    "ax.set_xlabel('')\n",
    "sb.despine();"
   ]
  },
  {
   "cell_type": "markdown",
   "metadata": {},
   "source": [
    "There are more users in weekdays than weekend, so the most of users should be bike commuters. Since the major users might be commuters, I want to look if there is a special trend in starting hour of each trip."
   ]
  },
  {
   "cell_type": "code",
   "execution_count": 18,
   "metadata": {},
   "outputs": [
    {
     "data": {
      "image/png": "[encoded data removed]",
      "text/plain": [
       "<Figure size 720x216 with 1 Axes>"
      ]
     },
     "metadata": {
      "needs_background": "light"
     },
     "output_type": "display_data"
    }
   ],
   "source": [
    "# plot the usage by each hour\n",
    "fig, ax = plt.subplots(figsize = (10,3))\n",
    "sb.countplot(data = df_18_clean, x = 'start_hr', color = sb.color_palette()[0])\n",
    "plt.title('Counts of trips for each hour')\n",
    "plt.yscale('log')\n",
    "plt.yticks([1e3, 3e3, 1e4, 3e4, 1e5, 3e5], ['1k', '3k', '10k', '30k', '100k', '300k'])\n",
    "ax.set_xlabel('starting hour')\n",
    "sb.despine();"
   ]
  },
  {
   "cell_type": "markdown",
   "metadata": {},
   "source": [
    "As I expect, most of the trips are taken in 7-9 am and 4-6 pm, which are all peak hours. Next, I want to take a look at the trips for each day and month in 2018."
   ]
  },
  {
   "cell_type": "code",
   "execution_count": 19,
   "metadata": {},
   "outputs": [
    {
     "data": {
      "image/png": "[encoded data removed]",
      "text/plain": [
       "<Figure size 720x216 with 1 Axes>"
      ]
     },
     "metadata": {
      "needs_background": "light"
     },
     "output_type": "display_data"
    }
   ],
   "source": [
    "# plot the usage by each day of month\n",
    "fig, ax = plt.subplots(figsize = (10,3))\n",
    "sb.countplot(data = df_18_clean, x = 'day', color = sb.color_palette()[0]);\n",
    "plt.title('Counts of trips for each day of month')\n",
    "sb.despine();"
   ]
  },
  {
   "cell_type": "markdown",
   "metadata": {},
   "source": [
    "The distribution looks normal with the similar pattern for every 7 days. Since there are only 7 months have 31st, it is normal to have fewer users."
   ]
  },
  {
   "cell_type": "code",
   "execution_count": 20,
   "metadata": {},
   "outputs": [
    {
     "data": {
      "image/png": "[encoded data removed]",
      "text/plain": [
       "<Figure size 720x216 with 1 Axes>"
      ]
     },
     "metadata": {
      "needs_background": "light"
     },
     "output_type": "display_data"
    }
   ],
   "source": [
    "# plot the usage by month of the year\n",
    "fig, ax = plt.subplots(figsize = (10,3))\n",
    "sb.countplot(data = df_18_clean, x = 'month', color = sb.color_palette()[0], order = month);\n",
    "plt.title('Counts of trips for each month of 2018')\n",
    "ax.set_xlabel('')\n",
    "sb.despine();"
   ]
  },
  {
   "cell_type": "markdown",
   "metadata": {},
   "source": [
    "Most of the trips are from May to October, and decreased from November to April. This might be caused by the rainy season of San Francisco Bay area. Next, I want to take a look at how many users are subscriber."
   ]
  },
  {
   "cell_type": "code",
   "execution_count": 21,
   "metadata": {},
   "outputs": [
    {
     "data": {
      "image/png": "[encoded data removed]",
      "text/plain": [
       "<Figure size 576x216 with 1 Axes>"
      ]
     },
     "metadata": {
      "needs_background": "light"
     },
     "output_type": "display_data"
    }
   ],
   "source": [
    "# plot the type of users\n",
    "fig, ax = plt.subplots(figsize = (8,3))\n",
    "sb.countplot(data = df_18_clean, x = 'user_type', color = sb.color_palette()[0])\n",
    "plt.title('Type of Users')\n",
    "plt.yscale('log')\n",
    "plt.yticks([1e4, 3e4, 1e5, 3e5, 1e6, 3e6], ['10k', '30k', '100k', '300k', '1M', '3M'])\n",
    "ax.set_xlabel('')\n",
    "sb.despine();"
   ]
  },
  {
   "cell_type": "markdown",
   "metadata": {},
   "source": [
    "Most of the users are subscribers. Since most of the users might be commuters, it is cheaper for them if they subscribe. Lastly, I want to take a look at how many users are in bike share for all program."
   ]
  },
  {
   "cell_type": "code",
   "execution_count": 22,
   "metadata": {},
   "outputs": [
    {
     "data": {
      "image/png": "[encoded data removed]",
      "text/plain": [
       "<Figure size 576x216 with 1 Axes>"
      ]
     },
     "metadata": {
      "needs_background": "light"
     },
     "output_type": "display_data"
    }
   ],
   "source": [
    "# plot the bike share for all users\n",
    "fig, ax = plt.subplots(figsize = (8,3))\n",
    "sb.countplot(data = df_18_clean, x = 'bike_share_for_all_trip', color = sb.color_palette()[0])\n",
    "plt.title('bike share for all users')\n",
    "plt.yscale('log')\n",
    "plt.yticks([1e4, 3e4, 1e5, 3e5, 1e6, 3e6], ['10k', '30k', '100k', '300k', '1M', '3M'])\n",
    "ax.set_xlabel('')\n",
    "sb.despine();"
   ]
  },
  {
   "cell_type": "markdown",
   "metadata": {},
   "source": [
    "The portion of users in bike share for all program is small, with fewer than 250 thousand users."
   ]
  },
  {
   "cell_type": "markdown",
   "metadata": {},
   "source": [
    "### Discuss the distribution(s) of your variable(s) of interest. Were there any unusual points? Did you need to perform any transformations?\n",
    "\n",
    "> The most of the trips are taken in the rush hours of weekdays from May to October, and most of the users are subscribers.\n",
    "I didn't find unusual points in this dataset. While looking at the count of trips for each hour, type and the bike share for all program users, I use the log trandfrom because of the large range of values.\n",
    "\n",
    "### Of the features you investigated, were there any unusual distributions? Did you perform any operations on the data to tidy, adjust, or change the form of the data? If so, why did you do this?\n",
    "\n",
    "> In order to look for time of day, day of the week or month of the year, I extract the needed information using datatime function into separate columns."
   ]
  },
  {
   "cell_type": "markdown",
   "metadata": {},
   "source": [
    "## Bivariate Exploration\n",
    "\n",
    "First, I want to look at the trips taken by subscribers and customers by each day of the week."
   ]
  },
  {
   "cell_type": "code",
   "execution_count": 23,
   "metadata": {},
   "outputs": [
    {
     "data": {
      "image/png": "[encoded data removed]",
      "text/plain": [
       "<Figure size 720x216 with 1 Axes>"
      ]
     },
     "metadata": {
      "needs_background": "light"
     },
     "output_type": "display_data"
    }
   ],
   "source": [
    "fig, ax = plt.subplots(figsize = (10,3))\n",
    "sb.countplot(data = df_18_clean, x = 'day_of_the_week', hue = 'user_type', palette = 'Blues', order = day)\n",
    "ax.set_xlabel('')\n",
    "plt.yscale('log')\n",
    "plt.yticks([1e4, 3e4, 1e5, 3e5], ['10k', '30k', '100k', '300k'])\n",
    "plt.legend(title = '')\n",
    "sb.despine();"
   ]
  },
  {
   "cell_type": "markdown",
   "metadata": {},
   "source": [
    "Subscribers take more trips in weekdays, but more non-subscribers use the system in weekends. This result is as expected that there are fewer commuters in weekends and non-subscribers are using this system for leisure and entertainment. Next, I want to take a look at the trips taken by the bike share for all user by each day of the week."
   ]
  },
  {
   "cell_type": "code",
   "execution_count": 24,
   "metadata": {},
   "outputs": [
    {
     "data": {
      "image/png": "[encoded data removed]",
      "text/plain": [
       "<Figure size 720x216 with 1 Axes>"
      ]
     },
     "metadata": {
      "needs_background": "light"
     },
     "output_type": "display_data"
    }
   ],
   "source": [
    "fig, ax = plt.subplots(figsize = (10,3))\n",
    "sb.countplot(data = df_18_clean, x = 'day_of_the_week', hue = 'bike_share_for_all_trip', palette = 'Blues', order = day)\n",
    "ax.set_xlabel('')\n",
    "plt.yscale('log')\n",
    "plt.yticks([1e3, 3e3, 1e4, 3e4, 1e5, 3e5], ['1k', '3k', '10k', '30k', '100k', '300k'])\n",
    "plt.legend(title = '', ncol = 2)\n",
    "sb.despine();"
   ]
  },
  {
   "cell_type": "markdown",
   "metadata": {},
   "source": [
    "The plot also shows some drop during weekends for bike share for all users. Next, I want to take a look at the change of trips taken by the subscribers and others for each month."
   ]
  },
  {
   "cell_type": "code",
   "execution_count": 25,
   "metadata": {},
   "outputs": [
    {
     "data": {
      "image/png": "[encoded data removed]",
      "text/plain": [
       "<Figure size 720x216 with 1 Axes>"
      ]
     },
     "metadata": {
      "needs_background": "light"
     },
     "output_type": "display_data"
    }
   ],
   "source": [
    "fig, ax = plt.subplots(figsize = (10,3))\n",
    "sb.countplot(data = df_18_clean, x = 'month', hue = 'user_type', palette = 'Greens', order = month)\n",
    "ax.set_xlabel('')\n",
    "plt.yscale('log')\n",
    "plt.yticks([1e4, 3e4, 1e5, 3e5], ['10k', '30k', '100k', '300k'])\n",
    "plt.legend(title = '')\n",
    "sb.despine();"
   ]
  },
  {
   "cell_type": "markdown",
   "metadata": {},
   "source": [
    "Seems that the subsribers and non subscribers both have more trips from May to October. Then, I want to look at trips for bike share for all users by each month."
   ]
  },
  {
   "cell_type": "code",
   "execution_count": 26,
   "metadata": {},
   "outputs": [
    {
     "data": {
      "image/png": "[encoded data removed]",
      "text/plain": [
       "<Figure size 720x216 with 1 Axes>"
      ]
     },
     "metadata": {
      "needs_background": "light"
     },
     "output_type": "display_data"
    }
   ],
   "source": [
    "fig, ax = plt.subplots(figsize = (10,3))\n",
    "sb.countplot(data = df_18_clean, x = 'month', hue = 'bike_share_for_all_trip', palette = 'Greens', order = month)\n",
    "ax.set_xlabel('')\n",
    "plt.yscale('log')\n",
    "plt.yticks([1e4, 3e4, 1e5, 3e5], ['10k', '30k', '100k', '300k'])\n",
    "plt.legend(title = '')\n",
    "sb.despine();"
   ]
  },
  {
   "cell_type": "markdown",
   "metadata": {},
   "source": [
    "This result shows the same pattern with the above plot. Since they have the similar trend, I guess that most of the user in program are subscribers. So, I want to see how many users in program are subscribers."
   ]
  },
  {
   "cell_type": "code",
   "execution_count": 27,
   "metadata": {},
   "outputs": [
    {
     "data": {
      "image/png": "[encoded data removed]",
      "text/plain": [
       "<Figure size 720x216 with 1 Axes>"
      ]
     },
     "metadata": {
      "needs_background": "light"
     },
     "output_type": "display_data"
    }
   ],
   "source": [
    "fig, ax = plt.subplots(figsize = (10,3))\n",
    "sb.countplot(data = df_18_clean, x = 'user_type', hue = 'bike_share_for_all_trip', palette = 'Blues')\n",
    "ax.set_xlabel('')\n",
    "plt.legend(title = '', ncol = 2)\n",
    "sb.despine();"
   ]
  },
  {
   "cell_type": "markdown",
   "metadata": {},
   "source": [
    "As expected, all user in the program are subscribers. "
   ]
  },
  {
   "cell_type": "code",
   "execution_count": 28,
   "metadata": {},
   "outputs": [
    {
     "data": {
      "image/png": "[encoded data removed]",
      "text/plain": [
       "<Figure size 720x216 with 1 Axes>"
      ]
     },
     "metadata": {
      "needs_background": "light"
     },
     "output_type": "display_data"
    }
   ],
   "source": [
    "fig, ax = plt.subplots(figsize = (10,3))\n",
    "sb.countplot(data = df_18_clean, x = 'start_hr', hue = 'user_type', palette = 'Blues')\n",
    "ax.set_xlabel('')\n",
    "plt.legend(title = '')\n",
    "sb.despine();"
   ]
  },
  {
   "cell_type": "markdown",
   "metadata": {},
   "source": [
    "The plot shows that most of subscribers uses bike during rush hours. However, non subscribers distributed evenly during daytime only with a slight increase during rush hours in evening.\n",
    "Next, I want to see how many trips are taken by each user types for each month."
   ]
  },
  {
   "cell_type": "code",
   "execution_count": 29,
   "metadata": {},
   "outputs": [],
   "source": [
    "# prepare the data for heatmap\n",
    "df_week = df_18_clean.groupby(['day_of_the_week','month'], as_index = False)['bike_id'].count()\n",
    "ordinal_var_dict = {'day_of_the_week':day,'month':month}\n",
    "\n",
    "for var in ordinal_var_dict:\n",
    "    ordered_var = pd.api.types.CategoricalDtype(ordered = True, categories = ordinal_var_dict[var])\n",
    "    df_week[var] = df_week[var].astype(ordered_var)\n"
   ]
  },
  {
   "cell_type": "code",
   "execution_count": 30,
   "metadata": {},
   "outputs": [
    {
     "data": {
      "image/png": "[encoded data removed]",
      "text/plain": [
       "<Figure size 720x504 with 2 Axes>"
      ]
     },
     "metadata": {
      "needs_background": "light"
     },
     "output_type": "display_data"
    }
   ],
   "source": [
    "# plot heat map\n",
    "heatmap = pd.pivot_table(df_week, values='bike_id', index=['day_of_the_week'], columns='month')\n",
    "fig, ax = plt.subplots(figsize = (10,7))\n",
    "sb.heatmap(heatmap, cmap=\"YlGnBu\",cbar_kws={'label': 'Counts'})\n",
    "ax.set_xlabel('')\n",
    "ax.set_ylabel('');"
   ]
  },
  {
   "cell_type": "markdown",
   "metadata": {},
   "source": [
    "The weekends of June, July and September have more users compare to other months. Each month has different distribution of the usages, however, some of the month have two or three days with higher trip counts in a row. Next, I want to look at the trips of  each day by each month. "
   ]
  },
  {
   "cell_type": "code",
   "execution_count": 31,
   "metadata": {},
   "outputs": [],
   "source": [
    "# prepare the data for heatmap\n",
    "df_day = df_18_clean.groupby(['day','month'], as_index = False)['bike_id'].count()\n",
    "ordinal_var_dict = {'month':month}\n",
    "\n",
    "for var in ordinal_var_dict:\n",
    "    ordered_var = pd.api.types.CategoricalDtype(ordered = True, categories = ordinal_var_dict[var])\n",
    "    df_day[var] = df_day[var].astype(ordered_var)"
   ]
  },
  {
   "cell_type": "code",
   "execution_count": 32,
   "metadata": {},
   "outputs": [
    {
     "data": {
      "image/png": "[encoded data removed]",
      "text/plain": [
       "<Figure size 720x504 with 2 Axes>"
      ]
     },
     "metadata": {
      "needs_background": "light"
     },
     "output_type": "display_data"
    }
   ],
   "source": [
    "heatmap = pd.pivot_table(df_day, values='bike_id', index='day', columns='month')\n",
    "fig, ax = plt.subplots(figsize = (10,7))\n",
    "sb.heatmap(heatmap, cmap=\"YlGnBu\",cbar_kws={'label': 'Counts'})\n",
    "ax.set_xlabel('')\n",
    "ax.set_ylabel('');"
   ]
  },
  {
   "cell_type": "markdown",
   "metadata": {},
   "source": [
    "This heatmap clearly shows that 5 days of higher counts follow by the 2 days of lower counts from May to October, which is consistent with the finding from the last heatmap. The only day that doesn't follow this rule is 4th, July, which is the independence day. Next, I want to look at the peak hour of each day of the week."
   ]
  },
  {
   "cell_type": "code",
   "execution_count": 33,
   "metadata": {},
   "outputs": [],
   "source": [
    "# prepare the data for heatmap\n",
    "df_hr= df_18_clean.groupby(['day_of_the_week','start_hr'], as_index = False)['bike_id'].count()\n",
    "ordinal_var_dict = {'day_of_the_week':day}\n",
    "\n",
    "for var in ordinal_var_dict:\n",
    "    ordered_var = pd.api.types.CategoricalDtype(ordered = True, categories = ordinal_var_dict[var])\n",
    "    df_hr[var] = df_hr[var].astype(ordered_var)"
   ]
  },
  {
   "cell_type": "code",
   "execution_count": 34,
   "metadata": {},
   "outputs": [
    {
     "data": {
      "image/png": "[encoded data removed]",
      "text/plain": [
       "<Figure size 720x504 with 2 Axes>"
      ]
     },
     "metadata": {
      "needs_background": "light"
     },
     "output_type": "display_data"
    }
   ],
   "source": [
    "heatmap = pd.pivot_table(df_hr, values='bike_id', index='start_hr', columns='day_of_the_week')\n",
    "fig, ax = plt.subplots(figsize = (10,7))\n",
    "sb.heatmap(heatmap, cmap=\"YlGnBu\",cbar_kws={'label': 'Counts'})\n",
    "ax.set_xlabel('')\n",
    "ax.set_ylabel('');"
   ]
  },
  {
   "cell_type": "markdown",
   "metadata": {},
   "source": [
    "Most of the trips are made during the rush hours on weekdays, and afternoon for weekends."
   ]
  },
  {
   "cell_type": "markdown",
   "metadata": {},
   "source": [
    "### Talk about some of the relationships you observed in this part of the investigation. How did the feature(s) of interest vary with other features in the dataset?\n",
    "\n",
    "> The trips taken for each day of the month correspond with the day of the week for each month. And since all users in bike share for all program are subscribers, I will analyze the type of user only.\n",
    "\n",
    "### Did you observe any interesting relationships between the other features (not the main feature(s) of interest)?\n",
    "\n",
    "> Most of the results are expected, the interesting relationship I found is that most of the non subscribers use the system during weekends, which is just the contrary of subscribers."
   ]
  },
  {
   "cell_type": "markdown",
   "metadata": {},
   "source": [
    "## Multivariate Exploration\n",
    "First, I want to look at the trips taken by type of user for day of the week in each month."
   ]
  },
  {
   "cell_type": "code",
   "execution_count": 35,
   "metadata": {},
   "outputs": [],
   "source": [
    "# prepare the data for heatmap\n",
    "df_user_day = df_18_clean.groupby(['day_of_the_week','month','user_type'], as_index = False)['bike_id'].count()\n",
    "ordinal_var_dict = {'day_of_the_week':day,'month':month}\n",
    "\n",
    "for var in ordinal_var_dict:\n",
    "    ordered_var = pd.api.types.CategoricalDtype(ordered = True, categories = ordinal_var_dict[var])\n",
    "    df_user_day[var] = df_user_day[var].astype(ordered_var)\n",
    "df_sub_day = df_user_day.query('user_type ==\"Subscriber\"')\n",
    "df_nsub_day = df_user_day.query('user_type !=\"Subscriber\"')"
   ]
  },
  {
   "cell_type": "code",
   "execution_count": 36,
   "metadata": {},
   "outputs": [
    {
     "data": {
      "image/png": "[encoded data removed]",
      "text/plain": [
       "<Figure size 864x432 with 4 Axes>"
      ]
     },
     "metadata": {
      "needs_background": "light"
     },
     "output_type": "display_data"
    }
   ],
   "source": [
    "fig, ax = plt.subplots(ncols = 2, figsize = [12,6])\n",
    "\n",
    "heatmap = pd.pivot_table(df_sub_day, values='bike_id', index='day_of_the_week', columns='month' )\n",
    "g = sb.heatmap(heatmap, cmap=\"YlGnBu\",cbar_kws={'label': 'Counts'}, ax = ax[0])\n",
    "g.set_xlabel('')\n",
    "g.set_ylabel('')\n",
    "\n",
    "heatmap1 = pd.pivot_table(df_nsub_day, values='bike_id', index='day_of_the_week', columns='month')\n",
    "g1=sb.heatmap(heatmap1, cmap=\"Greens\",cbar_kws={'label': 'Counts'}, ax = ax[1] )\n",
    "g1.set_xlabel('')\n",
    "g1.set_ylabel('');"
   ]
  },
  {
   "cell_type": "markdown",
   "metadata": {},
   "source": [
    "After separate the subscribers and non subscribers, I can tell that most of non subscribers use bikes during weekends of May to October, and most of subscribers use bikes on weekdays of May to October. And a portion of subscribers still commute by bike during the rainy season, but almost no non subscribers take bikes during rainy season. The busiest day of the week for subscribers are Wednesdays in October and Saturdays in June for non subscribers. Next, I will look at trips taken on each day of month by two types of users."
   ]
  },
  {
   "cell_type": "code",
   "execution_count": 37,
   "metadata": {},
   "outputs": [],
   "source": [
    "# prepare the data for heatmap\n",
    "df_user_day_m = df_18_clean.groupby(['day','month','user_type'], as_index = False)['bike_id'].count()\n",
    "ordinal_var_dict = {'month':month}\n",
    "\n",
    "for var in ordinal_var_dict:\n",
    "    ordered_var = pd.api.types.CategoricalDtype(ordered = True, categories = ordinal_var_dict[var])\n",
    "    df_user_day_m[var] = df_user_day_m[var].astype(ordered_var)\n",
    "df_sub_day_m = df_user_day_m.query('user_type ==\"Subscriber\"')\n",
    "df_nsub_day_m = df_user_day_m.query('user_type !=\"Subscriber\"')"
   ]
  },
  {
   "cell_type": "code",
   "execution_count": 38,
   "metadata": {},
   "outputs": [
    {
     "data": {
      "image/png": "[encoded data removed]",
      "text/plain": [
       "<Figure size 864x432 with 4 Axes>"
      ]
     },
     "metadata": {
      "needs_background": "light"
     },
     "output_type": "display_data"
    }
   ],
   "source": [
    "fig, ax = plt.subplots(ncols = 2, figsize = [12,6])\n",
    "\n",
    "heatmap = pd.pivot_table(df_sub_day_m, values='bike_id', index='day', columns='month' )\n",
    "g = sb.heatmap(heatmap, cmap=\"YlGnBu\",cbar_kws={'label': 'Counts'}, ax = ax[0])\n",
    "g.set_xlabel('')\n",
    "g.set_ylabel('')\n",
    "\n",
    "heatmap1 = pd.pivot_table(df_nsub_day_m, values='bike_id', index='day', columns='month')\n",
    "g1=sb.heatmap(heatmap1, cmap=\"Greens\",cbar_kws={'label': 'Counts'}, ax = ax[1] )\n",
    "g1.set_xlabel('')\n",
    "g1.set_ylabel('');"
   ]
  },
  {
   "cell_type": "markdown",
   "metadata": {},
   "source": [
    "The results correspond with the previous finding, nonsubscribers use bikes more during weekends and holiday.\n",
    "No matter which day in which month subscribers still ride bikes, as long as those are not holidays."
   ]
  },
  {
   "cell_type": "markdown",
   "metadata": {},
   "source": [
    "### Talk about some of the relationships you observed in this part of the investigation. Were there features that strengthened each other in terms of looking at your feature(s) of interest?\n",
    "\n",
    "> I extended my investigation of trips are made on each day of the week in each month by separating the type of users, and the results once again prove that subscribers should mostly be commuters that ride bikes during rush hour on weekdays, on the other hand, non subscribers often ride bikes in the afernoon of weekends and holidays.\n",
    "\n",
    "### Were there any interesting or surprising interactions between features?\n",
    "\n",
    "> Most of the findings are expected from the results of bivariate exploration."
   ]
  }
 ],
 "metadata": {
  "kernelspec": {
   "display_name": "Python 3",
   "language": "python",
   "name": "python3"
  },
  "language_info": {
   "codemirror_mode": {
    "name": "ipython",
    "version": 3
   },
   "file_extension": ".py",
   "mimetype": "text/x-python",
   "name": "python",
   "nbconvert_exporter": "python",
   "pygments_lexer": "ipython3",
   "version": "3.8.2"
  }
 },
 "nbformat": 4,
 "nbformat_minor": 2
}
